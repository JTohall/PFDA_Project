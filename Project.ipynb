{
 "cells": [
  {
   "cell_type": "markdown",
   "id": "23b2cd8b",
   "metadata": {},
   "source": [
    "# Programming for Data Analytics\n",
    "\n",
    "<br/>\n",
    "\n",
    "---"
   ]
  },
  {
   "cell_type": "markdown",
   "id": "b7c6df68",
   "metadata": {},
   "source": [
    "# Project II\n",
    "\n",
    "<br/>\n",
    "\n",
    "Author: Jamie Tohall<br/>\n",
    "Student Number: G00411380<br/>\n",
    "Lecturer: Brian McGinley<br/>\n",
    "\n",
    "<br/>\n",
    "\n",
    "---"
   ]
  },
  {
   "cell_type": "markdown",
   "id": "34345fd3",
   "metadata": {},
   "source": [
    "### Problem Statement\n",
    "<br/>\n",
    "\n",
    "This project will investigate the Wisconsin Breast Cancer dataset. The following list presents the requirements of the project:\n",
    "<br/>\n",
    "\n",
    "* Undertake an analysis/review of the dataset and present an overview and background.\n",
    "* Provide a literature review on classifiers which have been applied to the dataset and compare their performance\n",
    "* Present a statistical analysis of the dataset\n",
    "* Using a range of machine learning algorithms, train a set of classifiers on the dataset (using SKLearn etc.) and present classification performance results. Detail your rationale for the parameter selections you made while training the classifiers.\n",
    "* Compare, contrast and critique your results with reference to the literature\n",
    "* Discuss and investigate how the dataset could be extended – using data synthesis of new tumour datapoints\n",
    "* Document your work in a Jupyter notebook. \n",
    "* As a suggestion, you could use Pandas, Seaborn, SKLearn, etc. to perform your analysis. \n",
    "* Please use GitHub to demonstrate research, progress and consistency.\n",
    "\n",
    "<br/>\n",
    "\n",
    "---"
   ]
  },
  {
   "cell_type": "markdown",
   "id": "dd56b49b",
   "metadata": {},
   "source": [
    "### Importing relevant modules"
   ]
  },
  {
   "cell_type": "code",
   "execution_count": 8,
   "id": "c71b7cc0",
   "metadata": {},
   "outputs": [],
   "source": [
    "import pandas as pd\n",
    "import seaborn as sns\n",
    "import sklearn as sk\n",
    "import matplotlib.pyplot as plt"
   ]
  },
  {
   "cell_type": "markdown",
   "id": "33e2fc94",
   "metadata": {},
   "source": [
    "---"
   ]
  },
  {
   "cell_type": "markdown",
   "id": "82d3d262",
   "metadata": {},
   "source": [
    "### Reading in the dataset"
   ]
  },
  {
   "cell_type": "code",
   "execution_count": 9,
   "id": "563e7ef7",
   "metadata": {},
   "outputs": [],
   "source": [
    "bcdata = pd.read_csv(\"wisc_bc_data.csv\")"
   ]
  },
  {
   "cell_type": "markdown",
   "id": "e9c8d36a",
   "metadata": {},
   "source": [
    "---"
   ]
  },
  {
   "cell_type": "markdown",
   "id": "f3b01c70",
   "metadata": {},
   "source": [
    "### Analysis of Dataset\n",
    "\n",
    "---"
   ]
  },
  {
   "cell_type": "markdown",
   "id": "2d47b7db",
   "metadata": {},
   "source": [
    "### Literature Review on Classifiers\n",
    "\n",
    "---"
   ]
  },
  {
   "cell_type": "markdown",
   "id": "56d09fa1",
   "metadata": {},
   "source": [
    "### Statistical Analysis\n",
    "\n",
    "---"
   ]
  },
  {
   "cell_type": "markdown",
   "id": "3e0e37f2",
   "metadata": {},
   "source": [
    "### Training a Set of Classifiers\n",
    "\n",
    "---"
   ]
  },
  {
   "cell_type": "markdown",
   "id": "de2ab423",
   "metadata": {},
   "source": [
    "### Review of Results\n",
    "\n",
    "---"
   ]
  },
  {
   "cell_type": "markdown",
   "id": "967838e0",
   "metadata": {},
   "source": [
    "### Investigation of Dataset Extension\n",
    "\n",
    "---"
   ]
  },
  {
   "cell_type": "markdown",
   "id": "22697882",
   "metadata": {},
   "source": [
    "## References"
   ]
  },
  {
   "cell_type": "code",
   "execution_count": null,
   "id": "f8c1fb17",
   "metadata": {},
   "outputs": [],
   "source": []
  }
 ],
 "metadata": {
  "kernelspec": {
   "display_name": "Python 3 (ipykernel)",
   "language": "python",
   "name": "python3"
  },
  "language_info": {
   "codemirror_mode": {
    "name": "ipython",
    "version": 3
   },
   "file_extension": ".py",
   "mimetype": "text/x-python",
   "name": "python",
   "nbconvert_exporter": "python",
   "pygments_lexer": "ipython3",
   "version": "3.9.7"
  }
 },
 "nbformat": 4,
 "nbformat_minor": 5
}
